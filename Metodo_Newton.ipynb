{
  "nbformat": 4,
  "nbformat_minor": 0,
  "metadata": {
    "colab": {
      "provenance": [],
      "authorship_tag": "ABX9TyO/j4DXwFHXiATieE8O1vOP",
      "include_colab_link": true
    },
    "kernelspec": {
      "name": "python3",
      "display_name": "Python 3"
    },
    "language_info": {
      "name": "python"
    }
  },
  "cells": [
    {
      "cell_type": "markdown",
      "metadata": {
        "id": "view-in-github",
        "colab_type": "text"
      },
      "source": [
        "<a href=\"https://colab.research.google.com/github/MihoiIvan10/NUMERICOS-PYTHON/blob/main/Metodo_Newton.ipynb\" target=\"_parent\"><img src=\"https://colab.research.google.com/assets/colab-badge.svg\" alt=\"Open In Colab\"/></a>"
      ]
    },
    {
      "cell_type": "code",
      "execution_count": 1,
      "metadata": {
        "colab": {
          "base_uri": "https://localhost:8080/"
        },
        "id": "RyOVTQAFmJEQ",
        "outputId": "f4da4264-54ae-47d9-a48f-59d7668d9917"
      },
      "outputs": [
        {
          "output_type": "stream",
          "name": "stdout",
          "text": [
            "+-------------+--------------+---------------+--------------+--------------+--------------+\n",
            "|   Iteración |           p0 |         f(p0) |       f'(p0) |            p |        Error |\n",
            "+=============+==============+===============+==============+==============+==============+\n",
            "|           1 | 1.5000000000 | -0.1250000000 | 5.7500000000 | 1.5217391304 | 0.0217391304 |\n",
            "+-------------+--------------+---------------+--------------+--------------+--------------+\n",
            "|           2 | 1.5217391304 |  0.0021369278 | 5.9470699433 | 1.5213798060 | 0.0003593245 |\n",
            "+-------------+--------------+---------------+--------------+--------------+--------------+\n",
            "|           3 | 1.5213798060 |  0.0000005894 | 5.9437895420 | 1.5213797068 | 0.0000000992 |\n",
            "+-------------+--------------+---------------+--------------+--------------+--------------+\n",
            "La raíz aproximada es: 1.5213797068045751 (iteraciones: 3)\n"
          ]
        },
        {
          "output_type": "execute_result",
          "data": {
            "text/plain": [
              "1.5213797068045751"
            ]
          },
          "metadata": {},
          "execution_count": 1
        }
      ],
      "source": [
        "from tabulate import tabulate\n",
        "import sympy as sp\n",
        "\n",
        "def newton(f_expr, p0, t, n):\n",
        "\n",
        "    # Convertir la expresión simbólica en una función\n",
        "    x=sp.symbols('x')\n",
        "    f=sp.lambdify(x, f_expr)              # Convierte f(x) en función\n",
        "    df=sp.lambdify(x, sp.diff(f_expr, x)) # Calcula la derivada\n",
        "    ta=[]\n",
        "    headers=[\"Iteración\", \"p0\", \"f(p0)\", \"f'(p0)\", \"p\", \"Error\"]\n",
        "    i = 1\n",
        "\n",
        "    while i<=n:\n",
        "\n",
        "        f_p0=f(p0)\n",
        "        df_p0=df(p0)\n",
        "\n",
        "        if df_p0 == 0:\n",
        "            print(\"La derivada es cero!!!!\")\n",
        "            return None\n",
        "\n",
        "        p=p0 - f(p0) / df(p0)\n",
        "        error=abs(p - p0)\n",
        "        ta.append([i, p0, f_p0, df_p0, p, error])\n",
        "\n",
        "        if abs(p - p0) < t:\n",
        "            print(tabulate(ta, headers=headers, tablefmt=\"grid\", floatfmt=\".10f\"))\n",
        "            print(f\"La raíz aproximada es: {p} (iteraciones: {i})\")\n",
        "            return p\n",
        "\n",
        "        i += 1\n",
        "        p0 = p\n",
        "\n",
        "    print(f\"El método falló después eN {n} iteraciones.\")\n",
        "    return None\n",
        "\n",
        "\n",
        "# DEFINIR LA FUNCION SIMBOLICA\n",
        "f_expr = sp.sympify(\"x**3 - x - 2\")  # f(x) = x³ - x - 2\n",
        "\n",
        "# Parámetros\n",
        "p0=1.5\n",
        "t=0.000001\n",
        "n=20\n",
        "\n",
        "\n",
        "newton(f_expr, p0, t, n)\n",
        "\n"
      ]
    }
  ]
}