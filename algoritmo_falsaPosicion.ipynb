{
  "nbformat": 4,
  "nbformat_minor": 0,
  "metadata": {
    "colab": {
      "provenance": [],
      "authorship_tag": "ABX9TyO5O9GSbUh40H34xEqPAsjf",
      "include_colab_link": true
    },
    "kernelspec": {
      "name": "python3",
      "display_name": "Python 3"
    },
    "language_info": {
      "name": "python"
    }
  },
  "cells": [
    {
      "cell_type": "markdown",
      "metadata": {
        "id": "view-in-github",
        "colab_type": "text"
      },
      "source": [
        "<a href=\"https://colab.research.google.com/github/MihoiIvan10/NUMERICOS-PYTHON/blob/main/algoritmo_falsaPosicion.ipynb\" target=\"_parent\"><img src=\"https://colab.research.google.com/assets/colab-badge.svg\" alt=\"Open In Colab\"/></a>"
      ]
    },
    {
      "cell_type": "code",
      "execution_count": 3,
      "metadata": {
        "colab": {
          "base_uri": "https://localhost:8080/"
        },
        "id": "s7xjvaVhJCwV",
        "outputId": "2eab1efe-9da0-400d-bf95-6e3d21aff1f1"
      },
      "outputs": [
        {
          "output_type": "stream",
          "name": "stdout",
          "text": [
            "+-----+--------------+--------------+--------------------+---------------+---------------+------------------------+------------------------+\n",
            "|   n |           p0 |           p1 | pn                 |         f(p0) |         f(p1) | f(pn)                  | ERROR                  |\n",
            "+=====+==============+==============+====================+===============+===============+========================+========================+\n",
            "|   2 | 0.5000000000 | 0.7853981634 | -                  |  0.3775825619 | -0.0782913822 | -                      | -                      |\n",
            "+-----+--------------+--------------+--------------------+---------------+---------------+------------------------+------------------------+\n",
            "|   3 | 0.5000000000 | 0.7853981634 | 0.7363841388365822 |  0.3775825619 | -0.0782913822 | 0.0045177185221702     | 0.04901402456086612    |\n",
            "+-----+--------------+--------------+--------------------+---------------+---------------+------------------------+------------------------+\n",
            "|   4 | 0.7853981634 | 0.7363841388 | 0.7390581392138897 | -0.0782913822 |  0.0045177185 | 4.5177215963754236e-05 | 0.0026740003773075838  |\n",
            "+-----+--------------+--------------+--------------------+---------------+---------------+------------------------+------------------------+\n",
            "|   5 | 0.7853981634 | 0.7390581392 | 0.7390848638147098 | -0.0782913822 |  0.0000451772 | 4.5087180833291995e-07 | 2.672460082009387e-05  |\n",
            "+-----+--------------+--------------+--------------------+---------------+---------------+------------------------+------------------------+\n",
            "|   6 | 0.7853981634 | 0.7390848638 | 0.7390851305265789 | -0.0782913822 |  0.0000004509 | 4.499642769495438e-09  | 2.667118690347081e-07  |\n",
            "+-----+--------------+--------------+--------------------+---------------+---------------+------------------------+------------------------+\n",
            "|   7 | 0.7853981634 | 0.7390851305 | 0.7390851331883289 | -0.0782913822 |  0.0000000045 | 4.490585681082848e-11  | 2.6617500425984986e-09 |\n",
            "+-----+--------------+--------------+--------------------+---------------+---------------+------------------------+------------------------+\n",
            "|   8 | 0.7853981634 | 0.7390851332 | 0.7390851332148929 | -0.0782913822 |  0.0000000000 | 4.480860127387132e-13  | 2.6563973243298733e-11 |\n",
            "+-----+--------------+--------------+--------------------+---------------+---------------+------------------------+------------------------+\n",
            "|   9 | 0.7853981634 | 0.7390851332 | 0.7390851332151579 | -0.0782913822 |  0.0000000000 | 4.551914400963142e-15  | 2.6501023597802487e-13 |\n",
            "+-----+--------------+--------------+--------------------+---------------+---------------+------------------------+------------------------+\n",
            "|  10 | 0.7853981634 | 0.7390851332 | 0.7390851332151606 | -0.0782913822 |  0.0000000000 | 1.1102230246251565e-16 | 2.6645352591003757e-15 |\n",
            "+-----+--------------+--------------+--------------------+---------------+---------------+------------------------+------------------------+\n",
            "0.7390851332151606\n"
          ]
        }
      ],
      "source": [
        "import math\n",
        "from tabulate import tabulate\n",
        "\n",
        "\n",
        "# FUNCION\n",
        "def f(x):\n",
        "    return math.cos(x) - x\n",
        "\n",
        "\n",
        "\n",
        "# ALGORITMO\n",
        "def false_position(p0,p1,t,n):\n",
        "\n",
        "    headers=[\"n\", \"p0\", \"p1\", \"pn\", \"f(p0)\", \"f(p1)\", \"f(pn)\", \"ERROR\"]\n",
        "    ta=[]\n",
        "    i=2\n",
        "    q0=f(p0)\n",
        "    q1=f(p1)\n",
        "\n",
        "    if q0*q1 > 0:\n",
        "        print(\"El método de falsa posición requiere que f(p0) y f(p1) tengan signos opuestos.\")\n",
        "        return None\n",
        "\n",
        "    ta.append([i, p0, p1, \"-\", q0, q1, \"-\", \"-\"])\n",
        "\n",
        "    while i<=n:\n",
        "\n",
        "        p=p1-q1*(p1-p0)/(q1-q0)\n",
        "        q = f(p)\n",
        "        error = abs(p - p1)\n",
        "        ta.append([i + 1, p0, p1, p, q0, q1, q, error])\n",
        "\n",
        "        if abs(p-p1)<t:\n",
        "            print(tabulate(ta, headers=headers, tablefmt=\"grid\", floatfmt=\".10f\"))\n",
        "            return p\n",
        "        i=i+1\n",
        "        q=f(p)\n",
        "\n",
        "        if q*q1 < 0:\n",
        "            p0=p1\n",
        "            q0=q1\n",
        "\n",
        "        p1=p\n",
        "        q1=q\n",
        "\n",
        "    print(tabulate(ta, headers=headers, tablefmt=\"grid\", floatfmt=\".10f\"))\n",
        "    print(f\"el metodo fallo en {n} iteraciones\")\n",
        "    return None\n",
        "\n",
        "\n",
        "\n",
        "# MAIN\n",
        "\n",
        "p0 = 0.5\n",
        "p1 = math.pi / 4  # π/4\n",
        "t = 0.0000000000001  # Tolerancia\n",
        "n = 100  # Máximo de iteraciones\n",
        "\n",
        "raiz = false_position(p0,p1,t,n)\n",
        "print(raiz)"
      ]
    },
    {
      "cell_type": "markdown",
      "source": [
        "Método de Falsa Posición (Regla de la Falsa Posición)\n",
        "\n",
        "Este programa implementa el método de falsa posición para encontrar una raíz de la función f(x) = cos(x) - x.\n",
        "El método se utiliza para aproximar las soluciones de una ecuación no lineal cuando se dispone de dos puntos iniciales (p0 y p1)\n",
        "que cumplen con la condición de que f(p0) y f(p1) tienen signos opuestos.\n",
        "\n",
        "El algoritmo itera hasta que se alcanza una tolerancia predefinida (t) o hasta que se alcanza el número máximo de iteraciones (n).\n",
        "En cada iteración, se calcula un nuevo valor de la raíz (pn) y se evalúan los errores estimados para verificar la convergencia.\n",
        "\n",
        "Parámetros de entrada:\n",
        "- p0: Primer punto inicial.\n",
        "- p1: Segundo punto inicial (debe tener signo opuesto a f(p0)).\n",
        "- t: Tolerancia para la convergencia.\n",
        "- n: Número máximo de iteraciones.\n",
        "\n",
        "El resultado final es la aproximación de la raíz, o un mensaje indicando que el método falló tras el número máximo de iteraciones.\n",
        "\n",
        "MIHOI IVAN ROBLES SALDIVAR\n"
      ],
      "metadata": {
        "id": "ZG7gkT_kJKtv"
      }
    }
  ]
}