{
  "nbformat": 4,
  "nbformat_minor": 0,
  "metadata": {
    "colab": {
      "provenance": [],
      "authorship_tag": "ABX9TyOgyf8nWx2imf16Y6J7lA1k",
      "include_colab_link": true
    },
    "kernelspec": {
      "name": "python3",
      "display_name": "Python 3"
    },
    "language_info": {
      "name": "python"
    }
  },
  "cells": [
    {
      "cell_type": "markdown",
      "metadata": {
        "id": "view-in-github",
        "colab_type": "text"
      },
      "source": [
        "<a href=\"https://colab.research.google.com/github/MihoiIvan10/NUMERICOS-PYTHON/blob/main/Polinomio_Hermite.ipynb\" target=\"_parent\"><img src=\"https://colab.research.google.com/assets/colab-badge.svg\" alt=\"Open In Colab\"/></a>"
      ]
    },
    {
      "cell_type": "code",
      "execution_count": 20,
      "metadata": {
        "colab": {
          "base_uri": "https://localhost:8080/"
        },
        "id": "jda3hXvTmPCl",
        "outputId": "7d72652e-89c4-4075-e351-ab1d96e1bf86"
      },
      "outputs": [
        {
          "output_type": "stream",
          "name": "stdout",
          "text": [
            "Coeficientes principales del polinomio de Hermite:\n",
            "+----+------------+\n",
            "| i  |   Q[i][i]  |\n",
            "+----+------------+\n",
            "|  0 |  0.6200860 |\n",
            "|  1 | -0.5220232 |\n",
            "|  2 | -0.1119649 |\n",
            "|  3 |  0.2145137 |\n",
            "|  4 | -0.2442469 |\n",
            "|  5 | -0.0027747 |\n",
            "+----+------------+\n",
            "\n",
            "Aproximación en x = 1.5 :\n",
            "H( 1.5 ) = 0.5102475\n"
          ]
        }
      ],
      "source": [
        "def hermite(x, f_x, df_x, p):\n",
        "\n",
        "    n = len(x)\n",
        "    z = []\n",
        "    Q = []\n",
        "    for i in range(2 * n):\n",
        "      fila = [0] * (2 * n)\n",
        "      Q.append(fila)\n",
        "\n",
        "    for i in range(n):\n",
        "        z.append(x[i])\n",
        "        z.append(x[i])\n",
        "        Q[2*i][0] = f_x[i]\n",
        "        Q[2*i+1][0] = f_x[i]\n",
        "        Q[2*i+1][1] = df_x[i]\n",
        "\n",
        "        if i > 0:\n",
        "            Q[2*i][1] = (Q[2*i][0] - Q[2*i-1][0]) / (z[2*i] - z[2*i-1])\n",
        "\n",
        "    for i in range(2, 2*n):\n",
        "        for j in range(2, i+1):\n",
        "            Q[i][j] = (Q[i][j-1] - Q[i-1][j-1]) / (z[i] - z[i-j])\n",
        "\n",
        "    # Evaluar el polinomio\n",
        "    result = Q[0][0]\n",
        "    product = 1.0\n",
        "    for i in range(1, 2*n):\n",
        "        product *= (p - z[i-1])\n",
        "        result += Q[i][i] * product\n",
        "\n",
        "    # Imprimir aproximación\n",
        "    print(\"Coeficientes principales del polinomio de Hermite:\")\n",
        "    print(\"+----+------------+\")\n",
        "    print(\"| i  |   Q[i][i]  |\")\n",
        "    print(\"+----+------------+\")\n",
        "    for i in range(2 * n):\n",
        "        print(f\"| {i:2} | {Q[i][i]:10.7f} |\")\n",
        "    print(\"+----+------------+\")\n",
        "    print(\"\\nAproximación en x =\", p, \":\")\n",
        "    print(\"H(\", p, \") =\", round(result, 7))\n",
        "\n",
        "# Datos del ejemplo 3.15\n",
        "x = [1.3, 1.6, 1.9]\n",
        "f_x = [0.6200860, 0.4534022, 0.2818186]\n",
        "df_x = [-0.5220232, -0.5698959, -0.5811571]\n",
        "\n",
        "# Punto a evaluar (1.5 como en el ejemplo)\n",
        "hermite(x, f_x, df_x, p=1.5)"
      ]
    }
  ]
}