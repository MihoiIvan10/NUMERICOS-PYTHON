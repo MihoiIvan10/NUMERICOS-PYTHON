{
  "nbformat": 4,
  "nbformat_minor": 0,
  "metadata": {
    "colab": {
      "provenance": [],
      "authorship_tag": "ABX9TyMIoWYj9CORuLmHvZSk6Dhd",
      "include_colab_link": true
    },
    "kernelspec": {
      "name": "python3",
      "display_name": "Python 3"
    },
    "language_info": {
      "name": "python"
    }
  },
  "cells": [
    {
      "cell_type": "markdown",
      "metadata": {
        "id": "view-in-github",
        "colab_type": "text"
      },
      "source": [
        "<a href=\"https://colab.research.google.com/github/MihoiIvan10/NUMERICOS-PYTHON/blob/main/Simpson_compuesto.ipynb\" target=\"_parent\"><img src=\"https://colab.research.google.com/assets/colab-badge.svg\" alt=\"Open In Colab\"/></a>"
      ]
    },
    {
      "cell_type": "code",
      "execution_count": 1,
      "metadata": {
        "colab": {
          "base_uri": "https://localhost:8080/"
        },
        "id": "3ql_Af5k2BDA",
        "outputId": "399fcc55-2407-4a23-9e2d-6bbd3057dee0"
      },
      "outputs": [
        {
          "output_type": "stream",
          "name": "stdout",
          "text": [
            "Aproximación con n=2: 58.10291628591123\n",
            "Aproximación con n=4: 54.53051241253079\n",
            "Aproximación con n=8: 53.94955412933914\n"
          ]
        }
      ],
      "source": [
        "\n",
        "import math\n",
        "\n",
        "def f(x):\n",
        "    return math.exp(x)\n",
        "\n",
        "\n",
        "def simpson(a,b,n):\n",
        "\n",
        "    h=(abs(b-a))/n\n",
        "    x0=f(a)+f(b)\n",
        "    x1=0\n",
        "    x2=0\n",
        "\n",
        "    for i in range(n):\n",
        "        x=a+(i*h)\n",
        "        if( i%2 == 0):\n",
        "            x2=x2+f(x)\n",
        "        else:\n",
        "            x1=x1+f(x)\n",
        "\n",
        "\n",
        "    xr=(h/3)*(x0+ (2*x2) + (4*x1))\n",
        "\n",
        "    return xr\n",
        "\n",
        "\n",
        "\n",
        "# DATOS_EJEMPLO\\\n",
        "\n",
        "# Caso 1 Un solo intervalo [0, 4], n = 2\n",
        "result1 = simpson(0, 4, 2)\n",
        "print(\"Aproximación con n=2:\", result1)\n",
        "\n",
        "# Caso 2 Dos subintervalos [0,2] y [2,4], n = 4\n",
        "result2 = simpson(0, 4, 4)\n",
        "print(\"Aproximación con n=4:\", result2)\n",
        "\n",
        "# Caso 3 Cuatro subintervalos, n = 8\n",
        "result3 = simpson(0, 4, 8)\n",
        "print(\"Aproximación con n=8:\", result3)"
      ]
    }
  ]
}