{
  "nbformat": 4,
  "nbformat_minor": 0,
  "metadata": {
    "colab": {
      "provenance": [],
      "authorship_tag": "ABX9TyPFUj5ioj1NiEkplI+DQ5BD",
      "include_colab_link": true
    },
    "kernelspec": {
      "name": "python3",
      "display_name": "Python 3"
    },
    "language_info": {
      "name": "python"
    }
  },
  "cells": [
    {
      "cell_type": "markdown",
      "metadata": {
        "id": "view-in-github",
        "colab_type": "text"
      },
      "source": [
        "<a href=\"https://colab.research.google.com/github/MihoiIvan10/NUMERICOS-PYTHON/blob/main/Metodo_Secante.ipynb\" target=\"_parent\"><img src=\"https://colab.research.google.com/assets/colab-badge.svg\" alt=\"Open In Colab\"/></a>"
      ]
    },
    {
      "cell_type": "code",
      "execution_count": 1,
      "metadata": {
        "colab": {
          "base_uri": "https://localhost:8080/"
        },
        "id": "mnsJGJQhn_mt",
        "outputId": "be49d2b0-fdc7-4238-b562-782888c8e7f1"
      },
      "outputs": [
        {
          "output_type": "stream",
          "name": "stdout",
          "text": [
            "+-------------+--------------+--------------+---------------+---------------+--------------+--------------+\n",
            "|   Iteración |           p0 |           p1 |            q0 |            q1 |            p |        Error |\n",
            "+=============+==============+==============+===============+===============+==============+==============+\n",
            "|           1 | 1.0000000000 | 1.5000000000 | -2.0000000000 | -0.1250000000 | 1.5333333333 | 0.0333333333 |\n",
            "+-------------+--------------+--------------+---------------+---------------+--------------+--------------+\n",
            "|           2 | 1.5000000000 | 1.5333333333 | -0.1250000000 |  0.0717037037 | 1.5211824515 | 0.0121508818 |\n",
            "+-------------+--------------+--------------+---------------+---------------+--------------+--------------+\n",
            "|           3 | 1.5333333333 | 1.5211824515 |  0.0717037037 | -0.0011722662 | 1.5213779078 | 0.0001954563 |\n",
            "+-------------+--------------+--------------+---------------+---------------+--------------+--------------+\n",
            "|           4 | 1.5211824515 | 1.5213779078 | -0.0011722662 | -0.0000106928 | 1.5213797071 | 0.0000017993 |\n",
            "+-------------+--------------+--------------+---------------+---------------+--------------+--------------+\n",
            "|           5 | 1.5213779078 | 1.5213797071 | -0.0000106928 |  0.0000000016 | 1.5213797068 | 0.0000000003 |\n",
            "+-------------+--------------+--------------+---------------+---------------+--------------+--------------+\n",
            "La raíz aproximada es: 1.5213797068045671 (iteraciones: 5)\n"
          ]
        },
        {
          "output_type": "execute_result",
          "data": {
            "text/plain": [
              "1.5213797068045671"
            ]
          },
          "metadata": {},
          "execution_count": 1
        }
      ],
      "source": [
        "from tabulate import tabulate\n",
        "import sympy as sp\n",
        "\n",
        "def secante(f_expr, p0, p1, t, n0):\n",
        "\n",
        "    x=sp.symbols('x')\n",
        "    f=sp.lambdify(x, f_expr)\n",
        "    q0=f(p0)\n",
        "    q1=f(p1)\n",
        "    ta=[]\n",
        "    headers = [\"Iteración\", \"p0\", \"p1\", \"q0\", \"q1\", \"p\", \"Error\"]\n",
        "\n",
        "    i = 2\n",
        "\n",
        "    while i <= n0:\n",
        "\n",
        "        #Calcular la siguiente aproximacion\n",
        "        if q1 == q0:\n",
        "            print(\"La división por cero !!!!\")\n",
        "            return None\n",
        "\n",
        "        p=p1 - q1 * (p1 - p0) / (q1 - q0)\n",
        "        error=abs(p - p1)\n",
        "\n",
        "        ta.append([i - 1, p0, p1, q0, q1, p, error])\n",
        "\n",
        "\n",
        "        if abs(p-p1) < t:\n",
        "            print(tabulate(ta, headers=headers, tablefmt=\"grid\", floatfmt=\".10f\"))\n",
        "            print(f\"La raíz aproximada es: {p} (iteraciones: {i - 1})\")\n",
        "            return p\n",
        "\n",
        "\n",
        "        i += 1\n",
        "        p0=p1\n",
        "        q0=q1\n",
        "        p1=p\n",
        "        q1=f(p)\n",
        "\n",
        "    # Por si no converge\n",
        "    print(tabulate(ta, headers=headers, tablefmt=\"grid\", floatfmt=\".10f\"))\n",
        "    print(f\"El método falló después de {n0} iteraciones.\")\n",
        "    return None\n",
        "\n",
        "\n",
        "# Función simbólica\n",
        "f_expr = sp.sympify(\"x**3 - x - 2\")\n",
        "\n",
        "p0 = 1.0\n",
        "p1 = 1.5\n",
        "t = 0.000001\n",
        "n = 20\n",
        "\n",
        "secante(f_expr, p0, p1, t, n)\n"
      ]
    }
  ]
}