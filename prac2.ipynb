{
  "nbformat": 4,
  "nbformat_minor": 0,
  "metadata": {
    "colab": {
      "provenance": [],
      "authorship_tag": "ABX9TyOSp5wSZaUJvSG8oao3CZ32",
      "include_colab_link": true
    },
    "kernelspec": {
      "name": "python3",
      "display_name": "Python 3"
    },
    "language_info": {
      "name": "python"
    }
  },
  "cells": [
    {
      "cell_type": "markdown",
      "metadata": {
        "id": "view-in-github",
        "colab_type": "text"
      },
      "source": [
        "<a href=\"https://colab.research.google.com/github/MihoiIvan10/NUMERICOS-PYTHON/blob/main/prac2.ipynb\" target=\"_parent\"><img src=\"https://colab.research.google.com/assets/colab-badge.svg\" alt=\"Open In Colab\"/></a>"
      ]
    },
    {
      "cell_type": "code",
      "execution_count": 23,
      "metadata": {
        "colab": {
          "base_uri": "https://localhost:8080/"
        },
        "id": "drCM8xBlIzFx",
        "outputId": "8c4e4bcc-fcad-4b7e-dab9-a37e7a92fd49"
      },
      "outputs": [
        {
          "output_type": "stream",
          "name": "stdout",
          "text": [
            "  n       a_n       b_n       p_n     f(p_n)\n",
            "---  --------  --------  --------  ---------\n",
            "  1  1.000000  2.000000  1.500000   2.375000\n",
            "  2  1.000000  1.500000  1.250000  -1.796875\n",
            "  3  1.250000  1.500000  1.375000   0.162109\n",
            "  4  1.250000  1.375000  1.312500  -0.848389\n",
            "  5  1.312500  1.375000  1.343750  -0.350983\n",
            "  6  1.343750  1.375000  1.359375  -0.096409\n",
            "  7  1.359375  1.375000  1.367188   0.032356\n",
            "  8  1.359375  1.367188  1.363281  -0.032150\n",
            "  9  1.363281  1.367188  1.365234   0.000072\n",
            " 10  1.363281  1.365234  1.364258  -0.016047\n",
            " 11  1.364258  1.365234  1.364746  -0.007989\n",
            " 12  1.364746  1.365234  1.364990  -0.003959\n",
            " 13  1.364990  1.365234  1.365112  -0.001944\n",
            " 14  1.365112  1.365234  1.365173  -0.000936\n",
            " 15  1.365173  1.365234  1.365204  -0.000432\n",
            " 16  1.365204  1.365234  1.365219  -0.000180\n",
            " 17  1.365219  1.365234  1.365227  -0.000054\n",
            " 18  1.365227  1.365234  1.365231   0.000009\n",
            " 19  1.365227  1.365231  1.365229  -0.000022\n",
            " 20  1.365229  1.365231  1.365230  -0.000007\n",
            " 21  1.365230  1.365231  1.365230   0.000001\n",
            " 22  1.365230  1.365230  1.365230  -0.000003\n",
            " 23  1.365230  1.365230  1.365230  -0.000001\n",
            " 24  1.365230  1.365230  1.365230   0.000000\n",
            " 25  1.365230  1.365230  1.365230  -0.000000\n",
            " 26  1.365230  1.365230  1.365230  -0.000000\n",
            " 27  1.365230  1.365230  1.365230   0.000000\n",
            " 28  1.365230  1.365230  1.365230  -0.000000\n",
            " 29  1.365230  1.365230  1.365230   0.000000\n",
            " 30  1.365230  1.365230  1.365230   0.000000\n",
            " 31  1.365230  1.365230  1.365230  -0.000000\n",
            " 32  1.365230  1.365230  1.365230  -0.000000\n",
            " 33  1.365230  1.365230  1.365230   0.000000\n",
            " 34  1.365230  1.365230  1.365230   0.000000\n",
            " 35  1.365230  1.365230  1.365230  -0.000000\n",
            " 36  1.365230  1.365230  1.365230   0.000000\n",
            " 37  1.365230  1.365230  1.365230   0.000000\n",
            " 38  1.365230  1.365230  1.365230   0.000000\n",
            " 39  1.365230  1.365230  1.365230   0.000000\n",
            " 40  1.365230  1.365230  1.365230  -0.000000\n",
            " 41  1.365230  1.365230  1.365230  -0.000000\n",
            " 42  1.365230  1.365230  1.365230   0.000000\n",
            " 43  1.365230  1.365230  1.365230   0.000000\n",
            " 44  1.365230  1.365230  1.365230  -0.000000\n",
            " 45  1.365230  1.365230  1.365230   0.000000\n",
            " 46  1.365230  1.365230  1.365230  -0.000000\n",
            " 47  1.365230  1.365230  1.365230   0.000000\n",
            " 48  1.365230  1.365230  1.365230  -0.000000\n",
            " 49  1.365230  1.365230  1.365230   0.000000\n",
            "P es igual = 1.3652300134140969\n"
          ]
        }
      ],
      "source": [
        "from tabulate import tabulate\n",
        "\n",
        "def biseccion(a,b,n,t):\n",
        "\n",
        "    i=1\n",
        "    FA=f(a)\n",
        "    ta=[]\n",
        "    ta.append([\"n\",\"a_n\", \"b_n\", \"p_n\", \"f(p_n)\"])\n",
        "    while i<=n:\n",
        "        p=a+(b-a)/2\n",
        "        FP=f(p)\n",
        "        ta.append([i,a,b,p,FP])\n",
        "        if FP==0 or (b-a)/2 < t:\n",
        "            print(tabulate(ta, headers=\"firstrow\", floatfmt=\".6f\"))\n",
        "            return print(f\"P es igual = {p}\")\n",
        "        i+=1\n",
        "        if FA * FP > 0:\n",
        "            a=p  # La raíz está en [p, b]\n",
        "            FA=FP\n",
        "        else:\n",
        "            b=p  # La raíz esta eb [a,p]\n",
        "    print(tabulate(ta, headers=\"firstrow\", floatfmt=\".9f\"))\n",
        "    print(f\"El metodo fallo en la {n} iteracion\")\n",
        "    return None\n",
        "\n",
        "def f(x):\n",
        "    return x**3 + 4 * x**2 - 10\n",
        "\n",
        "a = 1   # Extremo izquierdo del intervalo\n",
        "b = 2   # Extremo derecho del intervalo\n",
        "t = 0.000000000000000000000000001  # Que tan preciso se quiere\n",
        "n = 100 # Número máximo de iteraciones\n",
        "\n",
        "biseccion(a,b,n,t)"
      ]
    },
    {
      "cell_type": "markdown",
      "source": [
        "FUNCION BISECCION PARA ENCONTRAR LAS RAIZ DE UNA FUNCION\n",
        "\n",
        "Este metodo esta compuesto por dos funciones la principal y la funcion que queremos calcular su raiz, de igual forma tenemos una tabla que nos va guardando los datos en cada iteracion dependieno el numero de iteraciones que le pongamos, recoradar que cada que t es importante ya que este es el criterio de parada eso y si FP=0, entre mas chica es t es la presicion que se quiere pero vemos que este algoritmo converge (FP=0) en la iteracion 24 ya que ahi empieza FP=0."
      ],
      "metadata": {
        "id": "MMCNqNHeKY-P"
      }
    }
  ]
}