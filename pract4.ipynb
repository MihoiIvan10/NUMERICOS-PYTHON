{
  "nbformat": 4,
  "nbformat_minor": 0,
  "metadata": {
    "colab": {
      "provenance": [],
      "authorship_tag": "ABX9TyPLT3SVbEjsIDF5OaZAI6lK",
      "include_colab_link": true
    },
    "kernelspec": {
      "name": "python3",
      "display_name": "Python 3"
    },
    "language_info": {
      "name": "python"
    }
  },
  "cells": [
    {
      "cell_type": "markdown",
      "metadata": {
        "id": "view-in-github",
        "colab_type": "text"
      },
      "source": [
        "<a href=\"https://colab.research.google.com/github/MihoiIvan10/NUMERICOS-PYTHON/blob/main/pract4.ipynb\" target=\"_parent\"><img src=\"https://colab.research.google.com/assets/colab-badge.svg\" alt=\"Open In Colab\"/></a>"
      ]
    },
    {
      "cell_type": "code",
      "execution_count": 3,
      "metadata": {
        "colab": {
          "base_uri": "https://localhost:8080/"
        },
        "id": "X7QK0L1Vacdx",
        "outputId": "db0bc0ae-4923-4fd0-b8ba-253d9bad1d38"
      },
      "outputs": [
        {
          "output_type": "stream",
          "name": "stdout",
          "text": [
            "+-----+-------------------+-------------------+\n",
            "|   n |                pn |             ERROR |\n",
            "+=====+===================+===================+\n",
            "|   1 | 1.500000000000000 | 0.151600275073516 |\n",
            "+-----+-------------------+-------------------+\n",
            "|   2 | 1.348399724926484 | 0.018976647064799 |\n",
            "+-----+-------------------+-------------------+\n",
            "|   3 | 1.367376371991283 | 0.002419356588796 |\n",
            "+-----+-------------------+-------------------+\n",
            "|   4 | 1.364957015402487 | 0.000307732710955 |\n",
            "+-----+-------------------+-------------------+\n",
            "|   5 | 1.365264748113442 | 0.000039153952917 |\n",
            "+-----+-------------------+-------------------+\n",
            "|   6 | 1.365225594160525 | 0.000004981512909 |\n",
            "+-----+-------------------+-------------------+\n",
            "|   7 | 1.365230575673434 | 0.000000633795251 |\n",
            "+-----+-------------------+-------------------+\n",
            "|   8 | 1.365229941878183 | 0.000000080637385 |\n",
            "+-----+-------------------+-------------------+\n",
            "|   9 | 1.365230022515568 | 0.000000010259446 |\n",
            "+-----+-------------------+-------------------+\n",
            "|  10 | 1.365230012256122 | 0.000000001305303 |\n",
            "+-----+-------------------+-------------------+\n",
            "|  11 | 1.365230013561425 | 0.000000000166073 |\n",
            "+-----+-------------------+-------------------+\n"
          ]
        },
        {
          "output_type": "execute_result",
          "data": {
            "text/plain": [
              "1.3652300133953523"
            ]
          },
          "metadata": {},
          "execution_count": 3
        }
      ],
      "source": [
        "from tabulate import tabulate\n",
        "import math\n",
        "\n",
        "\n",
        "def g(x):\n",
        "    return math.sqrt(10 / (4+x))\n",
        "\n",
        "\n",
        "def Fixed_Point(p0,t,n):\n",
        "\n",
        "    i=1\n",
        "    ta=[[\"n\", \"pn\", \"ERROR\"]]\n",
        "\n",
        "    while i<=n:\n",
        "        p=g(p0)\n",
        "        error=abs(p-p0)\n",
        "        ta.append([i,p0,error])\n",
        "        if abs(p-p0)<t:\n",
        "            print(tabulate(ta, headers=\"firstrow\", tablefmt=\"grid\" ,floatfmt=\".15f\"))\n",
        "            return p\n",
        "        i=i+1\n",
        "        p0=p\n",
        "\n",
        "    print(\"\\nMáximo número de iteraciones alcanzado:\")\n",
        "    print(tabulate(ta, headers=\"firstrow\", tablefmt=\"grid\", floatfmt=\".15f\"))\n",
        "    return p0\n",
        "\n",
        "p0 = 1.5\n",
        "t = 0.000000001\n",
        "n = 20\n",
        "\n",
        "Fixed_Point(p0, t, n)\n",
        "\n",
        "\n",
        "\n"
      ]
    }
  ]
}