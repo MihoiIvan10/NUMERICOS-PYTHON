{
  "nbformat": 4,
  "nbformat_minor": 0,
  "metadata": {
    "colab": {
      "provenance": [],
      "authorship_tag": "ABX9TyOTVrbEwXKpIqh+R3ekhcFw",
      "include_colab_link": true
    },
    "kernelspec": {
      "name": "python3",
      "display_name": "Python 3"
    },
    "language_info": {
      "name": "python"
    }
  },
  "cells": [
    {
      "cell_type": "markdown",
      "metadata": {
        "id": "view-in-github",
        "colab_type": "text"
      },
      "source": [
        "<a href=\"https://colab.research.google.com/github/MihoiIvan10/NUMERICOS-PYTHON/blob/main/neville.ipynb\" target=\"_parent\"><img src=\"https://colab.research.google.com/assets/colab-badge.svg\" alt=\"Open In Colab\"/></a>"
      ]
    },
    {
      "cell_type": "code",
      "execution_count": 1,
      "metadata": {
        "colab": {
          "base_uri": "https://localhost:8080/"
        },
        "id": "j63lwhhI4OMg",
        "outputId": "ad8bc421-594a-4e5e-acdb-7cb9cdf019ad"
      },
      "outputs": [
        {
          "output_type": "stream",
          "name": "stdout",
          "text": [
            "Tabla Q[i][j] completa:\n",
            "[[0.7651977  0.         0.         0.         0.        ]\n",
            " [0.620086   0.52334487 0.         0.         0.        ]\n",
            " [0.4554022  0.5102968  0.51247148 0.         0.        ]\n",
            " [0.2818186  0.5132634  0.51128567 0.51181269 0.        ]\n",
            " [0.1103623  0.510427   0.51373613 0.51183021 0.51181999]]\n"
          ]
        }
      ],
      "source": [
        "import numpy as np\n",
        "\n",
        "\n",
        "def func(x):\n",
        "    return np.exp(np.abs(x))\n",
        "\n",
        "# FUNCION QUE CALCULA EL METODO DE neville\n",
        "\n",
        "def neville(x_nodes,x,f):\n",
        "\n",
        "    n=len(x_nodes)\n",
        "    Q = np.zeros((n,n))\n",
        "\n",
        "    #POR SI QUEREMOS OCUPAR UNA FUNCION AUX PARA LOS F(X)\n",
        "    '''\n",
        "    for i in range (n):\n",
        "        Q[i][0]=func(i)\n",
        "    '''\n",
        "\n",
        "    for i in range(n):\n",
        "        Q[i][0]=f[i]\n",
        "\n",
        "    for j in range(1,n):\n",
        "        for i in range(j,n):\n",
        "            Q[i][j]=((x - x_nodes[i-j])*Q[i][j-1] - (x - x_nodes[i])*Q[i-1][j-1]) / (x_nodes[i] - x_nodes[i-j])\n",
        "    return Q\n",
        "\n",
        "\n",
        "'''\n",
        "# Datos de ejemplo\n",
        "x_nodes = np.array([-1.0, 0.0, 1.0])\n",
        "x_eval = 0.3\n",
        "result = neville(x_nodes, x_eval)\n",
        "print(f\"P({x_eval}) = {result}\")\n",
        "print(\"\\n\")\n",
        "print(f\"Interpolación en x = {x_eval}: P(x) = {result:.6f}, f(x) = {func(x_eval):.6f}\")\n",
        "\n",
        "'''\n",
        "\n",
        "x_nodes = np.array([1.0, 1.3, 1.6, 1.9, 2.2])\n",
        "f = np.array([0.7651977, 0.6200860, 0.4554022, 0.2818186, 0.1103623])\n",
        "x_eval = 1.5\n",
        "\n",
        "Q_table = neville(x_nodes,x_eval,f)\n",
        "print(\"Tabla Q[i][j] completa:\")\n",
        "print(Q_table)"
      ]
    }
  ]
}