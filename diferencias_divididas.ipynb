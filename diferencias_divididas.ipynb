{
  "nbformat": 4,
  "nbformat_minor": 0,
  "metadata": {
    "colab": {
      "provenance": [],
      "authorship_tag": "ABX9TyOC600LWBTHKs2O7mjbmRWk",
      "include_colab_link": true
    },
    "kernelspec": {
      "name": "python3",
      "display_name": "Python 3"
    },
    "language_info": {
      "name": "python"
    }
  },
  "cells": [
    {
      "cell_type": "markdown",
      "metadata": {
        "id": "view-in-github",
        "colab_type": "text"
      },
      "source": [
        "<a href=\"https://colab.research.google.com/github/MihoiIvan10/NUMERICOS-PYTHON/blob/main/diferencias_divididas.ipynb\" target=\"_parent\"><img src=\"https://colab.research.google.com/assets/colab-badge.svg\" alt=\"Open In Colab\"/></a>"
      ]
    },
    {
      "cell_type": "code",
      "execution_count": 1,
      "metadata": {
        "colab": {
          "base_uri": "https://localhost:8080/"
        },
        "id": "rh5Jq3T-aNU6",
        "outputId": "c6b7f129-6857-4a86-e6d4-f7e9de95af78"
      },
      "outputs": [
        {
          "output_type": "stream",
          "name": "stdout",
          "text": [
            "Matriz de diferencias divididas:\n",
            "[[ 0.7651977   0.          0.          0.          0.        ]\n",
            " [ 0.620086   -0.48370567  0.          0.          0.        ]\n",
            " [ 0.4554022  -0.548946   -0.10873389  0.          0.        ]\n",
            " [ 0.2818186  -0.578612   -0.04944333  0.0658784   0.        ]\n",
            " [ 0.1103623  -0.571521    0.01181833  0.06806852  0.0018251 ]]\n",
            "\n",
            "Evaluación en x = 1.5 : 0.5118199942386833\n"
          ]
        }
      ],
      "source": [
        "import numpy as np\n",
        "\n",
        "def f(x):\n",
        "    return x+2\n",
        "\n",
        "# FUNCION QUE CALCULA LAS DIFERENCIAS divididas\n",
        "\n",
        "def diferencias_interpolacion(x_nodes,f_y):\n",
        "\n",
        "    n=len(x_nodes)\n",
        "    F=np.zeros((n,n))\n",
        "\n",
        "    for i in range(n):\n",
        "        F[i][0]=f_y[i]\n",
        "    for i in range(1,n):\n",
        "        for j in range(1,i+1):\n",
        "            F[i][j]= (F[i][j-1] - F[i-1][j-1]) / (x_nodes[i] - x_nodes[i-j])\n",
        "    return F\n",
        "\n",
        "# FUNCION QUE INTERPOLA CON LO QUE YA Calculamos\n",
        "\n",
        "def interpolacion(x,x_nodes,F):\n",
        "\n",
        "    n=len(x_nodes)\n",
        "    P_x=F[0][0]\n",
        "    res=1\n",
        "\n",
        "    for i in range(1,n):\n",
        "        res*=(x-x_nodes[i-1])\n",
        "        P_x+= F[i][i]*res\n",
        "\n",
        "    return P_x\n",
        "\n",
        "# Datos de ejemplo\n",
        "x_nodes = np.array([1.0, 1.3, 1.6, 1.9, 2.2])\n",
        "f_y = np.array([0.7651977, 0.6200860, 0.4554022, 0.2818186, 0.1103623])\n",
        "\n",
        "# Calculamos diferencias divididas\n",
        "F = diferencias_interpolacion(x_nodes, f_y)\n",
        "\n",
        "# Evaluamos P_n(x) en x = 1.5\n",
        "x_eval = 1.5\n",
        "P_eval = interpolacion(x_eval, x_nodes, F)\n",
        "\n",
        "print(\"Matriz de diferencias divididas:\")\n",
        "print(F)\n",
        "print(\"\\nEvaluación en x =\", x_eval, \":\", P_eval)"
      ]
    }
  ]
}